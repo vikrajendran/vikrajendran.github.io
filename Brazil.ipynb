{
 "cells": [
  {
   "cell_type": "code",
   "execution_count": 1,
   "id": "9bb8dd9b",
   "metadata": {},
   "outputs": [],
   "source": [
    "#import packages\n",
    "import pandas as pd\n",
    "import numpy as np"
   ]
  },
  {
   "cell_type": "code",
   "execution_count": 2,
   "id": "fe1b2267",
   "metadata": {},
   "outputs": [],
   "source": [
    "#load datasets\n",
    "df1 = pd.read_csv('HDIPercentD.csv')\n",
    "df2 = pd.read_csv('IsocodesMergedClean.csv')\n",
    "df3 = pd.read_csv('GDPPercentD.csv')\n",
    "df4 = pd.read_csv('GenderPercentD.csv')\n",
    "df5 = pd.read_csv('PopulationData1.csv')"
   ]
  },
  {
   "cell_type": "code",
   "execution_count": 3,
   "id": "1f443dbd",
   "metadata": {},
   "outputs": [
    {
     "data": {
      "text/html": [
       "<div>\n",
       "<style scoped>\n",
       "    .dataframe tbody tr th:only-of-type {\n",
       "        vertical-align: middle;\n",
       "    }\n",
       "\n",
       "    .dataframe tbody tr th {\n",
       "        vertical-align: top;\n",
       "    }\n",
       "\n",
       "    .dataframe thead th {\n",
       "        text-align: right;\n",
       "    }\n",
       "</style>\n",
       "<table border=\"1\" class=\"dataframe\">\n",
       "  <thead>\n",
       "    <tr style=\"text-align: right;\">\n",
       "      <th></th>\n",
       "      <th>Country Name</th>\n",
       "      <th>GDP per Capita ($)</th>\n",
       "    </tr>\n",
       "  </thead>\n",
       "  <tbody>\n",
       "    <tr>\n",
       "      <th>0</th>\n",
       "      <td>Albania</td>\n",
       "      <td>13632.186540</td>\n",
       "    </tr>\n",
       "    <tr>\n",
       "      <th>1</th>\n",
       "      <td>Algeria</td>\n",
       "      <td>11323.312220</td>\n",
       "    </tr>\n",
       "    <tr>\n",
       "      <th>2</th>\n",
       "      <td>Angola</td>\n",
       "      <td>6478.332182</td>\n",
       "    </tr>\n",
       "    <tr>\n",
       "      <th>3</th>\n",
       "      <td>Antigua and Barbuda</td>\n",
       "      <td>18240.380410</td>\n",
       "    </tr>\n",
       "    <tr>\n",
       "      <th>4</th>\n",
       "      <td>Argentina</td>\n",
       "      <td>20769.032380</td>\n",
       "    </tr>\n",
       "  </tbody>\n",
       "</table>\n",
       "</div>"
      ],
      "text/plain": [
       "          Country Name  GDP per Capita ($)\n",
       "0              Albania        13632.186540\n",
       "1              Algeria        11323.312220\n",
       "2               Angola         6478.332182\n",
       "3  Antigua and Barbuda        18240.380410\n",
       "4            Argentina        20769.032380"
      ]
     },
     "execution_count": 3,
     "metadata": {},
     "output_type": "execute_result"
    }
   ],
   "source": [
    "#rename GDP column and remove not used columns\n",
    "df3 = df3[['Country Name', '2020']]\n",
    "df3.columns = ['GDP per Capita ($)' if x=='2020' else x for x in df3.columns]\n",
    "df3.head()"
   ]
  },
  {
   "cell_type": "code",
   "execution_count": 4,
   "id": "4eb74bdf",
   "metadata": {},
   "outputs": [
    {
     "data": {
      "text/html": [
       "<div>\n",
       "<style scoped>\n",
       "    .dataframe tbody tr th:only-of-type {\n",
       "        vertical-align: middle;\n",
       "    }\n",
       "\n",
       "    .dataframe tbody tr th {\n",
       "        vertical-align: top;\n",
       "    }\n",
       "\n",
       "    .dataframe thead th {\n",
       "        text-align: right;\n",
       "    }\n",
       "</style>\n",
       "<table border=\"1\" class=\"dataframe\">\n",
       "  <thead>\n",
       "    <tr style=\"text-align: right;\">\n",
       "      <th></th>\n",
       "      <th>Alpha-3 code</th>\n",
       "      <th>Population</th>\n",
       "    </tr>\n",
       "  </thead>\n",
       "  <tbody>\n",
       "    <tr>\n",
       "      <th>0</th>\n",
       "      <td>ZWE</td>\n",
       "      <td>15092171</td>\n",
       "    </tr>\n",
       "    <tr>\n",
       "      <th>1</th>\n",
       "      <td>ZMB</td>\n",
       "      <td>18920657</td>\n",
       "    </tr>\n",
       "    <tr>\n",
       "      <th>2</th>\n",
       "      <td>YEM</td>\n",
       "      <td>30490639</td>\n",
       "    </tr>\n",
       "    <tr>\n",
       "      <th>3</th>\n",
       "      <td>PSE</td>\n",
       "      <td>4922749</td>\n",
       "    </tr>\n",
       "    <tr>\n",
       "      <th>4</th>\n",
       "      <td>VIR</td>\n",
       "      <td>105870</td>\n",
       "    </tr>\n",
       "  </tbody>\n",
       "</table>\n",
       "</div>"
      ],
      "text/plain": [
       "  Alpha-3 code  Population\n",
       "0          ZWE    15092171\n",
       "1          ZMB    18920657\n",
       "2          YEM    30490639\n",
       "3          PSE     4922749\n",
       "4          VIR      105870"
      ]
     },
     "execution_count": 4,
     "metadata": {},
     "output_type": "execute_result"
    }
   ],
   "source": [
    "#rename population column and remove not used columns\n",
    "df5 = df5[['Alpha-3 code', 'YR2021']]\n",
    "df5.columns = ['Population' if x=='YR2021' else x for x in df5.columns]\n",
    "df5.head()"
   ]
  },
  {
   "cell_type": "code",
   "execution_count": 5,
   "id": "9da0c263",
   "metadata": {},
   "outputs": [
    {
     "data": {
      "text/html": [
       "<div>\n",
       "<style scoped>\n",
       "    .dataframe tbody tr th:only-of-type {\n",
       "        vertical-align: middle;\n",
       "    }\n",
       "\n",
       "    .dataframe tbody tr th {\n",
       "        vertical-align: top;\n",
       "    }\n",
       "\n",
       "    .dataframe thead th {\n",
       "        text-align: right;\n",
       "    }\n",
       "</style>\n",
       "<table border=\"1\" class=\"dataframe\">\n",
       "  <thead>\n",
       "    <tr style=\"text-align: right;\">\n",
       "      <th></th>\n",
       "      <th>Country Name</th>\n",
       "      <th>Men's FIFA Ranking Points</th>\n",
       "      <th>Women's FIFA Ranking Points</th>\n",
       "      <th>Alpha-3 code</th>\n",
       "      <th>Percentage Difference</th>\n",
       "    </tr>\n",
       "  </thead>\n",
       "  <tbody>\n",
       "    <tr>\n",
       "      <th>0</th>\n",
       "      <td>Albania</td>\n",
       "      <td>1361.81</td>\n",
       "      <td>1346.01</td>\n",
       "      <td>ALB</td>\n",
       "      <td>1.160221</td>\n",
       "    </tr>\n",
       "    <tr>\n",
       "      <th>1</th>\n",
       "      <td>Algeria</td>\n",
       "      <td>1480.59</td>\n",
       "      <td>1288.27</td>\n",
       "      <td>DZA</td>\n",
       "      <td>12.989416</td>\n",
       "    </tr>\n",
       "    <tr>\n",
       "      <th>2</th>\n",
       "      <td>American Samoa</td>\n",
       "      <td>900.27</td>\n",
       "      <td>1030.00</td>\n",
       "      <td>ASM</td>\n",
       "      <td>-14.410121</td>\n",
       "    </tr>\n",
       "    <tr>\n",
       "      <th>3</th>\n",
       "      <td>Andorra</td>\n",
       "      <td>1028.70</td>\n",
       "      <td>751.46</td>\n",
       "      <td>AND</td>\n",
       "      <td>26.950520</td>\n",
       "    </tr>\n",
       "    <tr>\n",
       "      <th>4</th>\n",
       "      <td>Angola</td>\n",
       "      <td>1149.08</td>\n",
       "      <td>1041.91</td>\n",
       "      <td>AGO</td>\n",
       "      <td>9.326592</td>\n",
       "    </tr>\n",
       "  </tbody>\n",
       "</table>\n",
       "</div>"
      ],
      "text/plain": [
       "     Country Name  Men's FIFA Ranking Points  Women's FIFA Ranking Points  \\\n",
       "0         Albania                    1361.81                      1346.01   \n",
       "1         Algeria                    1480.59                      1288.27   \n",
       "2  American Samoa                     900.27                      1030.00   \n",
       "3         Andorra                    1028.70                       751.46   \n",
       "4          Angola                    1149.08                      1041.91   \n",
       "\n",
       "  Alpha-3 code  Percentage Difference  \n",
       "0          ALB               1.160221  \n",
       "1          DZA              12.989416  \n",
       "2          ASM             -14.410121  \n",
       "3          AND              26.950520  \n",
       "4          AGO               9.326592  "
      ]
     },
     "execution_count": 5,
     "metadata": {},
     "output_type": "execute_result"
    }
   ],
   "source": [
    "#rename columns\n",
    "df2.columns = [\"Women's FIFA Ranking Points\" if x=='Womens Points' else x for x in df2.columns]\n",
    "df2.columns = [\"Men's FIFA Ranking Points\" if x=='Mens Points' else x for x in df2.columns]\n",
    "df2.head()"
   ]
  },
  {
   "cell_type": "code",
   "execution_count": 6,
   "id": "20bd4080",
   "metadata": {},
   "outputs": [
    {
     "data": {
      "text/html": [
       "<div>\n",
       "<style scoped>\n",
       "    .dataframe tbody tr th:only-of-type {\n",
       "        vertical-align: middle;\n",
       "    }\n",
       "\n",
       "    .dataframe tbody tr th {\n",
       "        vertical-align: top;\n",
       "    }\n",
       "\n",
       "    .dataframe thead th {\n",
       "        text-align: right;\n",
       "    }\n",
       "</style>\n",
       "<table border=\"1\" class=\"dataframe\">\n",
       "  <thead>\n",
       "    <tr style=\"text-align: right;\">\n",
       "      <th></th>\n",
       "      <th>Country Name</th>\n",
       "      <th>Gender Inequality Index</th>\n",
       "    </tr>\n",
       "  </thead>\n",
       "  <tbody>\n",
       "    <tr>\n",
       "      <th>0</th>\n",
       "      <td>Albania</td>\n",
       "      <td>0.144</td>\n",
       "    </tr>\n",
       "    <tr>\n",
       "      <th>1</th>\n",
       "      <td>Algeria</td>\n",
       "      <td>0.499</td>\n",
       "    </tr>\n",
       "    <tr>\n",
       "      <th>2</th>\n",
       "      <td>Angola</td>\n",
       "      <td>0.537</td>\n",
       "    </tr>\n",
       "    <tr>\n",
       "      <th>3</th>\n",
       "      <td>Argentina</td>\n",
       "      <td>0.287</td>\n",
       "    </tr>\n",
       "    <tr>\n",
       "      <th>4</th>\n",
       "      <td>Armenia</td>\n",
       "      <td>0.216</td>\n",
       "    </tr>\n",
       "  </tbody>\n",
       "</table>\n",
       "</div>"
      ],
      "text/plain": [
       "  Country Name  Gender Inequality Index\n",
       "0      Albania                    0.144\n",
       "1      Algeria                    0.499\n",
       "2       Angola                    0.537\n",
       "3    Argentina                    0.287\n",
       "4      Armenia                    0.216"
      ]
     },
     "execution_count": 6,
     "metadata": {},
     "output_type": "execute_result"
    }
   ],
   "source": [
    "#remove not used columns\n",
    "df4 = df4[['Country Name', 'Gender Inequality Index']]\n",
    "df4.head()"
   ]
  },
  {
   "cell_type": "code",
   "execution_count": 7,
   "id": "a8ebbe0a",
   "metadata": {},
   "outputs": [
    {
     "data": {
      "text/html": [
       "<div>\n",
       "<style scoped>\n",
       "    .dataframe tbody tr th:only-of-type {\n",
       "        vertical-align: middle;\n",
       "    }\n",
       "\n",
       "    .dataframe tbody tr th {\n",
       "        vertical-align: top;\n",
       "    }\n",
       "\n",
       "    .dataframe thead th {\n",
       "        text-align: right;\n",
       "    }\n",
       "</style>\n",
       "<table border=\"1\" class=\"dataframe\">\n",
       "  <thead>\n",
       "    <tr style=\"text-align: right;\">\n",
       "      <th></th>\n",
       "      <th>Country Name</th>\n",
       "      <th>HDI</th>\n",
       "    </tr>\n",
       "  </thead>\n",
       "  <tbody>\n",
       "    <tr>\n",
       "      <th>0</th>\n",
       "      <td>Albania</td>\n",
       "      <td>0.796</td>\n",
       "    </tr>\n",
       "    <tr>\n",
       "      <th>1</th>\n",
       "      <td>Algeria</td>\n",
       "      <td>0.745</td>\n",
       "    </tr>\n",
       "    <tr>\n",
       "      <th>2</th>\n",
       "      <td>Andorra</td>\n",
       "      <td>0.858</td>\n",
       "    </tr>\n",
       "    <tr>\n",
       "      <th>3</th>\n",
       "      <td>Angola</td>\n",
       "      <td>0.586</td>\n",
       "    </tr>\n",
       "    <tr>\n",
       "      <th>4</th>\n",
       "      <td>Antigua and Barbuda</td>\n",
       "      <td>0.788</td>\n",
       "    </tr>\n",
       "  </tbody>\n",
       "</table>\n",
       "</div>"
      ],
      "text/plain": [
       "          Country Name    HDI\n",
       "0              Albania  0.796\n",
       "1              Algeria  0.745\n",
       "2              Andorra  0.858\n",
       "3               Angola  0.586\n",
       "4  Antigua and Barbuda  0.788"
      ]
     },
     "execution_count": 7,
     "metadata": {},
     "output_type": "execute_result"
    }
   ],
   "source": [
    "#rename HDI column and remove not used columns\n",
    "df1 = df1[['Country Name', 'Value']]\n",
    "df1.columns = ['HDI' if x=='Value' else x for x in df1.columns]\n",
    "df1.head()"
   ]
  },
  {
   "cell_type": "code",
   "execution_count": 8,
   "id": "27eed1b0",
   "metadata": {},
   "outputs": [
    {
     "data": {
      "text/html": [
       "<div>\n",
       "<style scoped>\n",
       "    .dataframe tbody tr th:only-of-type {\n",
       "        vertical-align: middle;\n",
       "    }\n",
       "\n",
       "    .dataframe tbody tr th {\n",
       "        vertical-align: top;\n",
       "    }\n",
       "\n",
       "    .dataframe thead th {\n",
       "        text-align: right;\n",
       "    }\n",
       "</style>\n",
       "<table border=\"1\" class=\"dataframe\">\n",
       "  <thead>\n",
       "    <tr style=\"text-align: right;\">\n",
       "      <th></th>\n",
       "      <th>Country Name</th>\n",
       "      <th>HDI</th>\n",
       "      <th>GDP per Capita ($)</th>\n",
       "    </tr>\n",
       "  </thead>\n",
       "  <tbody>\n",
       "    <tr>\n",
       "      <th>0</th>\n",
       "      <td>Albania</td>\n",
       "      <td>0.796</td>\n",
       "      <td>13632.186540</td>\n",
       "    </tr>\n",
       "    <tr>\n",
       "      <th>1</th>\n",
       "      <td>Algeria</td>\n",
       "      <td>0.745</td>\n",
       "      <td>11323.312220</td>\n",
       "    </tr>\n",
       "    <tr>\n",
       "      <th>2</th>\n",
       "      <td>Angola</td>\n",
       "      <td>0.586</td>\n",
       "      <td>6478.332182</td>\n",
       "    </tr>\n",
       "    <tr>\n",
       "      <th>3</th>\n",
       "      <td>Antigua and Barbuda</td>\n",
       "      <td>0.788</td>\n",
       "      <td>18240.380410</td>\n",
       "    </tr>\n",
       "    <tr>\n",
       "      <th>4</th>\n",
       "      <td>Argentina</td>\n",
       "      <td>0.842</td>\n",
       "      <td>20769.032380</td>\n",
       "    </tr>\n",
       "  </tbody>\n",
       "</table>\n",
       "</div>"
      ],
      "text/plain": [
       "          Country Name    HDI  GDP per Capita ($)\n",
       "0              Albania  0.796        13632.186540\n",
       "1              Algeria  0.745        11323.312220\n",
       "2               Angola  0.586         6478.332182\n",
       "3  Antigua and Barbuda  0.788        18240.380410\n",
       "4            Argentina  0.842        20769.032380"
      ]
     },
     "execution_count": 8,
     "metadata": {},
     "output_type": "execute_result"
    }
   ],
   "source": [
    "#merge datasets\n",
    "df1 = pd.merge(df1,df3, on = 'Country Name')\n",
    "df1.head()"
   ]
  },
  {
   "cell_type": "code",
   "execution_count": 9,
   "id": "e52b12f4",
   "metadata": {},
   "outputs": [
    {
     "data": {
      "text/html": [
       "<div>\n",
       "<style scoped>\n",
       "    .dataframe tbody tr th:only-of-type {\n",
       "        vertical-align: middle;\n",
       "    }\n",
       "\n",
       "    .dataframe tbody tr th {\n",
       "        vertical-align: top;\n",
       "    }\n",
       "\n",
       "    .dataframe thead th {\n",
       "        text-align: right;\n",
       "    }\n",
       "</style>\n",
       "<table border=\"1\" class=\"dataframe\">\n",
       "  <thead>\n",
       "    <tr style=\"text-align: right;\">\n",
       "      <th></th>\n",
       "      <th>Country Name</th>\n",
       "      <th>Men's FIFA Ranking Points</th>\n",
       "      <th>Women's FIFA Ranking Points</th>\n",
       "      <th>Alpha-3 code</th>\n",
       "      <th>Percentage Difference</th>\n",
       "      <th>Population</th>\n",
       "    </tr>\n",
       "  </thead>\n",
       "  <tbody>\n",
       "    <tr>\n",
       "      <th>0</th>\n",
       "      <td>Albania</td>\n",
       "      <td>1361.81</td>\n",
       "      <td>1346.01</td>\n",
       "      <td>ALB</td>\n",
       "      <td>1.160221</td>\n",
       "      <td>2811666</td>\n",
       "    </tr>\n",
       "    <tr>\n",
       "      <th>1</th>\n",
       "      <td>Algeria</td>\n",
       "      <td>1480.59</td>\n",
       "      <td>1288.27</td>\n",
       "      <td>DZA</td>\n",
       "      <td>12.989416</td>\n",
       "      <td>44616626</td>\n",
       "    </tr>\n",
       "    <tr>\n",
       "      <th>2</th>\n",
       "      <td>American Samoa</td>\n",
       "      <td>900.27</td>\n",
       "      <td>1030.00</td>\n",
       "      <td>ASM</td>\n",
       "      <td>-14.410121</td>\n",
       "      <td>55103</td>\n",
       "    </tr>\n",
       "    <tr>\n",
       "      <th>3</th>\n",
       "      <td>Andorra</td>\n",
       "      <td>1028.70</td>\n",
       "      <td>751.46</td>\n",
       "      <td>AND</td>\n",
       "      <td>26.950520</td>\n",
       "      <td>77354</td>\n",
       "    </tr>\n",
       "    <tr>\n",
       "      <th>4</th>\n",
       "      <td>Angola</td>\n",
       "      <td>1149.08</td>\n",
       "      <td>1041.91</td>\n",
       "      <td>AGO</td>\n",
       "      <td>9.326592</td>\n",
       "      <td>33933611</td>\n",
       "    </tr>\n",
       "  </tbody>\n",
       "</table>\n",
       "</div>"
      ],
      "text/plain": [
       "     Country Name  Men's FIFA Ranking Points  Women's FIFA Ranking Points  \\\n",
       "0         Albania                    1361.81                      1346.01   \n",
       "1         Algeria                    1480.59                      1288.27   \n",
       "2  American Samoa                     900.27                      1030.00   \n",
       "3         Andorra                    1028.70                       751.46   \n",
       "4          Angola                    1149.08                      1041.91   \n",
       "\n",
       "  Alpha-3 code  Percentage Difference  Population  \n",
       "0          ALB               1.160221     2811666  \n",
       "1          DZA              12.989416    44616626  \n",
       "2          ASM             -14.410121       55103  \n",
       "3          AND              26.950520       77354  \n",
       "4          AGO               9.326592    33933611  "
      ]
     },
     "execution_count": 9,
     "metadata": {},
     "output_type": "execute_result"
    }
   ],
   "source": [
    "#merge datasets\n",
    "df2 = pd.merge(df2,df5, on = 'Alpha-3 code')\n",
    "df2.head()"
   ]
  },
  {
   "cell_type": "code",
   "execution_count": 10,
   "id": "2a3cff42",
   "metadata": {},
   "outputs": [
    {
     "data": {
      "text/html": [
       "<div>\n",
       "<style scoped>\n",
       "    .dataframe tbody tr th:only-of-type {\n",
       "        vertical-align: middle;\n",
       "    }\n",
       "\n",
       "    .dataframe tbody tr th {\n",
       "        vertical-align: top;\n",
       "    }\n",
       "\n",
       "    .dataframe thead th {\n",
       "        text-align: right;\n",
       "    }\n",
       "</style>\n",
       "<table border=\"1\" class=\"dataframe\">\n",
       "  <thead>\n",
       "    <tr style=\"text-align: right;\">\n",
       "      <th></th>\n",
       "      <th>Country Name</th>\n",
       "      <th>HDI</th>\n",
       "      <th>GDP per Capita ($)</th>\n",
       "      <th>Gender Inequality Index</th>\n",
       "    </tr>\n",
       "  </thead>\n",
       "  <tbody>\n",
       "    <tr>\n",
       "      <th>0</th>\n",
       "      <td>Albania</td>\n",
       "      <td>0.796</td>\n",
       "      <td>13632.186540</td>\n",
       "      <td>0.144</td>\n",
       "    </tr>\n",
       "    <tr>\n",
       "      <th>1</th>\n",
       "      <td>Algeria</td>\n",
       "      <td>0.745</td>\n",
       "      <td>11323.312220</td>\n",
       "      <td>0.499</td>\n",
       "    </tr>\n",
       "    <tr>\n",
       "      <th>2</th>\n",
       "      <td>Angola</td>\n",
       "      <td>0.586</td>\n",
       "      <td>6478.332182</td>\n",
       "      <td>0.537</td>\n",
       "    </tr>\n",
       "    <tr>\n",
       "      <th>3</th>\n",
       "      <td>Argentina</td>\n",
       "      <td>0.842</td>\n",
       "      <td>20769.032380</td>\n",
       "      <td>0.287</td>\n",
       "    </tr>\n",
       "    <tr>\n",
       "      <th>4</th>\n",
       "      <td>Armenia</td>\n",
       "      <td>0.759</td>\n",
       "      <td>13311.028140</td>\n",
       "      <td>0.216</td>\n",
       "    </tr>\n",
       "  </tbody>\n",
       "</table>\n",
       "</div>"
      ],
      "text/plain": [
       "  Country Name    HDI  GDP per Capita ($)  Gender Inequality Index\n",
       "0      Albania  0.796        13632.186540                    0.144\n",
       "1      Algeria  0.745        11323.312220                    0.499\n",
       "2       Angola  0.586         6478.332182                    0.537\n",
       "3    Argentina  0.842        20769.032380                    0.287\n",
       "4      Armenia  0.759        13311.028140                    0.216"
      ]
     },
     "execution_count": 10,
     "metadata": {},
     "output_type": "execute_result"
    }
   ],
   "source": [
    "#merge datasets\n",
    "df3 = pd.merge(df1,df4, on = 'Country Name')\n",
    "df3.head()"
   ]
  },
  {
   "cell_type": "code",
   "execution_count": 11,
   "id": "a1cf4d3a",
   "metadata": {},
   "outputs": [
    {
     "data": {
      "text/html": [
       "<div>\n",
       "<style scoped>\n",
       "    .dataframe tbody tr th:only-of-type {\n",
       "        vertical-align: middle;\n",
       "    }\n",
       "\n",
       "    .dataframe tbody tr th {\n",
       "        vertical-align: top;\n",
       "    }\n",
       "\n",
       "    .dataframe thead th {\n",
       "        text-align: right;\n",
       "    }\n",
       "</style>\n",
       "<table border=\"1\" class=\"dataframe\">\n",
       "  <thead>\n",
       "    <tr style=\"text-align: right;\">\n",
       "      <th></th>\n",
       "      <th>Country Name</th>\n",
       "      <th>Men's FIFA Ranking Points</th>\n",
       "      <th>Women's FIFA Ranking Points</th>\n",
       "      <th>Alpha-3 code</th>\n",
       "      <th>Percentage Difference</th>\n",
       "      <th>Population</th>\n",
       "      <th>HDI</th>\n",
       "      <th>GDP per Capita ($)</th>\n",
       "      <th>Gender Inequality Index</th>\n",
       "    </tr>\n",
       "  </thead>\n",
       "  <tbody>\n",
       "    <tr>\n",
       "      <th>0</th>\n",
       "      <td>Albania</td>\n",
       "      <td>1361.81</td>\n",
       "      <td>1346.01</td>\n",
       "      <td>ALB</td>\n",
       "      <td>1.160221</td>\n",
       "      <td>2811666</td>\n",
       "      <td>0.796</td>\n",
       "      <td>13632.186540</td>\n",
       "      <td>0.144</td>\n",
       "    </tr>\n",
       "    <tr>\n",
       "      <th>1</th>\n",
       "      <td>Algeria</td>\n",
       "      <td>1480.59</td>\n",
       "      <td>1288.27</td>\n",
       "      <td>DZA</td>\n",
       "      <td>12.989416</td>\n",
       "      <td>44616626</td>\n",
       "      <td>0.745</td>\n",
       "      <td>11323.312220</td>\n",
       "      <td>0.499</td>\n",
       "    </tr>\n",
       "    <tr>\n",
       "      <th>2</th>\n",
       "      <td>Angola</td>\n",
       "      <td>1149.08</td>\n",
       "      <td>1041.91</td>\n",
       "      <td>AGO</td>\n",
       "      <td>9.326592</td>\n",
       "      <td>33933611</td>\n",
       "      <td>0.586</td>\n",
       "      <td>6478.332182</td>\n",
       "      <td>0.537</td>\n",
       "    </tr>\n",
       "    <tr>\n",
       "      <th>3</th>\n",
       "      <td>Argentina</td>\n",
       "      <td>1770.65</td>\n",
       "      <td>1660.37</td>\n",
       "      <td>ARG</td>\n",
       "      <td>6.228221</td>\n",
       "      <td>45808747</td>\n",
       "      <td>0.842</td>\n",
       "      <td>20769.032380</td>\n",
       "      <td>0.287</td>\n",
       "    </tr>\n",
       "    <tr>\n",
       "      <th>4</th>\n",
       "      <td>Armenia</td>\n",
       "      <td>1242.42</td>\n",
       "      <td>1072.97</td>\n",
       "      <td>ARM</td>\n",
       "      <td>13.638705</td>\n",
       "      <td>2968128</td>\n",
       "      <td>0.759</td>\n",
       "      <td>13311.028140</td>\n",
       "      <td>0.216</td>\n",
       "    </tr>\n",
       "  </tbody>\n",
       "</table>\n",
       "</div>"
      ],
      "text/plain": [
       "  Country Name  Men's FIFA Ranking Points  Women's FIFA Ranking Points  \\\n",
       "0      Albania                    1361.81                      1346.01   \n",
       "1      Algeria                    1480.59                      1288.27   \n",
       "2       Angola                    1149.08                      1041.91   \n",
       "3    Argentina                    1770.65                      1660.37   \n",
       "4      Armenia                    1242.42                      1072.97   \n",
       "\n",
       "  Alpha-3 code  Percentage Difference  Population    HDI  GDP per Capita ($)  \\\n",
       "0          ALB               1.160221     2811666  0.796        13632.186540   \n",
       "1          DZA              12.989416    44616626  0.745        11323.312220   \n",
       "2          AGO               9.326592    33933611  0.586         6478.332182   \n",
       "3          ARG               6.228221    45808747  0.842        20769.032380   \n",
       "4          ARM              13.638705     2968128  0.759        13311.028140   \n",
       "\n",
       "   Gender Inequality Index  \n",
       "0                    0.144  \n",
       "1                    0.499  \n",
       "2                    0.537  \n",
       "3                    0.287  \n",
       "4                    0.216  "
      ]
     },
     "execution_count": 11,
     "metadata": {},
     "output_type": "execute_result"
    }
   ],
   "source": [
    "#complete merging of datasets\n",
    "df = pd.merge(df2,df3, on = 'Country Name')\n",
    "df.head()"
   ]
  },
  {
   "cell_type": "code",
   "execution_count": 12,
   "id": "9a5cf367",
   "metadata": {},
   "outputs": [
    {
     "data": {
      "text/html": [
       "<div>\n",
       "<style scoped>\n",
       "    .dataframe tbody tr th:only-of-type {\n",
       "        vertical-align: middle;\n",
       "    }\n",
       "\n",
       "    .dataframe tbody tr th {\n",
       "        vertical-align: top;\n",
       "    }\n",
       "\n",
       "    .dataframe thead th {\n",
       "        text-align: right;\n",
       "    }\n",
       "</style>\n",
       "<table border=\"1\" class=\"dataframe\">\n",
       "  <thead>\n",
       "    <tr style=\"text-align: right;\">\n",
       "      <th></th>\n",
       "      <th>Country Name</th>\n",
       "      <th>Men's FIFA Ranking Points</th>\n",
       "      <th>Women's FIFA Ranking Points</th>\n",
       "      <th>Percentage Difference</th>\n",
       "      <th>Population</th>\n",
       "      <th>HDI</th>\n",
       "      <th>GDP per Capita ($)</th>\n",
       "      <th>Gender Inequality Index</th>\n",
       "    </tr>\n",
       "  </thead>\n",
       "  <tbody>\n",
       "    <tr>\n",
       "      <th>0</th>\n",
       "      <td>Albania</td>\n",
       "      <td>1361.81</td>\n",
       "      <td>1346.01</td>\n",
       "      <td>1.160221</td>\n",
       "      <td>2811666</td>\n",
       "      <td>0.796</td>\n",
       "      <td>13632.186540</td>\n",
       "      <td>0.144</td>\n",
       "    </tr>\n",
       "    <tr>\n",
       "      <th>1</th>\n",
       "      <td>Algeria</td>\n",
       "      <td>1480.59</td>\n",
       "      <td>1288.27</td>\n",
       "      <td>12.989416</td>\n",
       "      <td>44616626</td>\n",
       "      <td>0.745</td>\n",
       "      <td>11323.312220</td>\n",
       "      <td>0.499</td>\n",
       "    </tr>\n",
       "    <tr>\n",
       "      <th>2</th>\n",
       "      <td>Angola</td>\n",
       "      <td>1149.08</td>\n",
       "      <td>1041.91</td>\n",
       "      <td>9.326592</td>\n",
       "      <td>33933611</td>\n",
       "      <td>0.586</td>\n",
       "      <td>6478.332182</td>\n",
       "      <td>0.537</td>\n",
       "    </tr>\n",
       "    <tr>\n",
       "      <th>3</th>\n",
       "      <td>Argentina</td>\n",
       "      <td>1770.65</td>\n",
       "      <td>1660.37</td>\n",
       "      <td>6.228221</td>\n",
       "      <td>45808747</td>\n",
       "      <td>0.842</td>\n",
       "      <td>20769.032380</td>\n",
       "      <td>0.287</td>\n",
       "    </tr>\n",
       "    <tr>\n",
       "      <th>4</th>\n",
       "      <td>Armenia</td>\n",
       "      <td>1242.42</td>\n",
       "      <td>1072.97</td>\n",
       "      <td>13.638705</td>\n",
       "      <td>2968128</td>\n",
       "      <td>0.759</td>\n",
       "      <td>13311.028140</td>\n",
       "      <td>0.216</td>\n",
       "    </tr>\n",
       "  </tbody>\n",
       "</table>\n",
       "</div>"
      ],
      "text/plain": [
       "  Country Name  Men's FIFA Ranking Points  Women's FIFA Ranking Points  \\\n",
       "0      Albania                    1361.81                      1346.01   \n",
       "1      Algeria                    1480.59                      1288.27   \n",
       "2       Angola                    1149.08                      1041.91   \n",
       "3    Argentina                    1770.65                      1660.37   \n",
       "4      Armenia                    1242.42                      1072.97   \n",
       "\n",
       "   Percentage Difference  Population    HDI  GDP per Capita ($)  \\\n",
       "0               1.160221     2811666  0.796        13632.186540   \n",
       "1              12.989416    44616626  0.745        11323.312220   \n",
       "2               9.326592    33933611  0.586         6478.332182   \n",
       "3               6.228221    45808747  0.842        20769.032380   \n",
       "4              13.638705     2968128  0.759        13311.028140   \n",
       "\n",
       "   Gender Inequality Index  \n",
       "0                    0.144  \n",
       "1                    0.499  \n",
       "2                    0.537  \n",
       "3                    0.287  \n",
       "4                    0.216  "
      ]
     },
     "execution_count": 12,
     "metadata": {},
     "output_type": "execute_result"
    }
   ],
   "source": [
    "#remove ALpha code column\n",
    "df = df.drop('Alpha-3 code', axis=1)\n",
    "df.head()"
   ]
  },
  {
   "cell_type": "code",
   "execution_count": 13,
   "id": "502a6ad8",
   "metadata": {},
   "outputs": [
    {
     "data": {
      "text/plain": [
       "(147, 8)"
      ]
     },
     "execution_count": 13,
     "metadata": {},
     "output_type": "execute_result"
    }
   ],
   "source": [
    "#check shape\n",
    "df.shape"
   ]
  },
  {
   "cell_type": "code",
   "execution_count": 14,
   "id": "5691ac73",
   "metadata": {},
   "outputs": [],
   "source": [
    "#download csv\n",
    "df.to_csv('Anomalies1.csv, index = False')"
   ]
  },
  {
   "cell_type": "code",
   "execution_count": 15,
   "id": "de8375cd",
   "metadata": {},
   "outputs": [
    {
     "name": "stdout",
     "output_type": "stream",
     "text": [
      "['Country Name', \"Men's FIFA Ranking Points\", \"Women's FIFA Ranking Points\", 'Percentage Difference', 'Population', 'HDI', 'GDP per Capita ($)', 'Gender Inequality Index']\n"
     ]
    }
   ],
   "source": [
    "#set params\n",
    "params = list(df.columns)\n",
    "\n",
    "print(params)\n"
   ]
  },
  {
   "cell_type": "code",
   "execution_count": 16,
   "id": "5d7cd8c7",
   "metadata": {},
   "outputs": [
    {
     "name": "stdout",
     "output_type": "stream",
     "text": [
      "[\"Men's FIFA Ranking Points\", \"Women's FIFA Ranking Points\", 'Percentage Difference', 'Population', 'HDI', 'GDP per Capita ($)', 'Gender Inequality Index']\n"
     ]
    }
   ],
   "source": [
    "#remove Country Name from params\n",
    "params = params[1:]\n",
    "\n",
    "print(params)"
   ]
  },
  {
   "cell_type": "code",
   "execution_count": 17,
   "id": "3c9fbf64",
   "metadata": {},
   "outputs": [],
   "source": [
    "#isolate specific country\n",
    "Country = df.loc[df['Country Name']== 'Brazil'].reset_index()\n",
    "\n",
    "Country = list(Country.loc[0])\n",
    "Country = Country[2: ]"
   ]
  },
  {
   "cell_type": "code",
   "execution_count": 18,
   "id": "6c5fae53",
   "metadata": {},
   "outputs": [
    {
     "name": "stdout",
     "output_type": "stream",
     "text": [
      "[1837.56, 1975.82, -7.524108056, 213993441, 0.754, 14834.1937, 0.39]\n"
     ]
    }
   ],
   "source": [
    "#check data\n",
    "print(Country)"
   ]
  },
  {
   "cell_type": "code",
   "execution_count": 19,
   "id": "2f5e7f29",
   "metadata": {},
   "outputs": [
    {
     "name": "stdout",
     "output_type": "stream",
     "text": [
      "7\n"
     ]
    },
    {
     "data": {
      "text/plain": [
       "(None, 7)"
      ]
     },
     "execution_count": 19,
     "metadata": {},
     "output_type": "execute_result"
    }
   ],
   "source": [
    "#check length of params\n",
    "print(len(params)),(len(Country))"
   ]
  },
  {
   "cell_type": "code",
   "execution_count": 20,
   "id": "2910c54a",
   "metadata": {},
   "outputs": [
    {
     "name": "stdout",
     "output_type": "stream",
     "text": [
      "[\"Men's FIFA Ranking Points\", \"Women's FIFA Ranking Points\", 'Percentage Difference', 'Population', 'HDI', 'GDP per Capita ($)', 'Gender Inequality Index']\n"
     ]
    }
   ],
   "source": [
    "#check params\n",
    "print(params)"
   ]
  },
  {
   "cell_type": "code",
   "execution_count": 21,
   "id": "b7653013",
   "metadata": {},
   "outputs": [],
   "source": [
    "#import maths package\n",
    "from scipy import stats \n",
    "import math"
   ]
  },
  {
   "cell_type": "code",
   "execution_count": 22,
   "id": "a61a47ef",
   "metadata": {},
   "outputs": [],
   "source": [
    "#calculate percentile ranks for specific country within dataset\n",
    "values = []\n",
    "for x in range(len(params)):\n",
    "    values.append(math.floor(stats.percentileofscore(df[params[x]],Country[x])))"
   ]
  },
  {
   "cell_type": "code",
   "execution_count": 23,
   "id": "95b68b51",
   "metadata": {},
   "outputs": [
    {
     "name": "stdout",
     "output_type": "stream",
     "text": [
      "[100, 95, 39, 97, 53, 55, 56]\n"
     ]
    }
   ],
   "source": [
    "#check values\n",
    "print(values)"
   ]
  },
  {
   "cell_type": "code",
   "execution_count": 24,
   "id": "e83362f2",
   "metadata": {},
   "outputs": [],
   "source": [
    "#import mplsoccer package for vizualisation\n",
    "from mplsoccer import PyPizza, add_image, FontManager"
   ]
  },
  {
   "cell_type": "code",
   "execution_count": 26,
   "id": "3047decd",
   "metadata": {},
   "outputs": [
    {
     "data": {
      "text/plain": [
       "Text(0.515, 0.942, 'Percentile Rank in various indicators')"
      ]
     },
     "execution_count": 26,
     "metadata": {},
     "output_type": "execute_result"
    },
    {
     "data": {
      "image/png": "[encoded data removed]",
      "text/plain": [
       "<Figure size 800x800 with 1 Axes>"
      ]
     },
     "metadata": {},
     "output_type": "display_data"
    }
   ],
   "source": [
    "#load mpl soccer specification\n",
    "# instantiate PyPizza class\n",
    "baker = PyPizza(\n",
    "    params=params,                  # list of parameters\n",
    "    straight_line_color=\"#000000\",  # color for straight lines\n",
    "    straight_line_lw=1,             # linewidth for straight lines\n",
    "    last_circle_lw=1,               # linewidth of last circle\n",
    "    other_circle_lw=1,              # linewidth for other circles\n",
    "    other_circle_ls=\"-.\"            # linestyle for other circles\n",
    ")\n",
    "\n",
    "# plot pizza\n",
    "fig, ax = baker.make_pizza(\n",
    "    values,              # list of values\n",
    "    figsize=(8, 8),      # adjust figsize according to your need\n",
    "    param_location=110,  # where the parameters will be added\n",
    "    kwargs_slices=dict(\n",
    "        facecolor=\"#FEDD00\", edgecolor=\"#000000\",\n",
    "        zorder=2, linewidth=1\n",
    "    ),                   # values to be used when plotting slices\n",
    "    kwargs_params=dict(\n",
    "        color=\"#000000\", fontsize=12,\n",
    "         va=\"center\"\n",
    "    ),                   # values to be used when adding parameter\n",
    "    kwargs_values=dict(\n",
    "        color=\"white\", fontsize=12,\n",
    "         zorder=3,\n",
    "        bbox=dict(\n",
    "            edgecolor=\"white\", facecolor=\"#009c3b\",\n",
    "            boxstyle=\"round,pad=0.2\", lw=1\n",
    "        )\n",
    "    )                    # values to be used when adding parameter-values\n",
    ")\n",
    "\n",
    "# add title\n",
    "fig.text(\n",
    "    0.515, 0.97, \"Brazil\", size=18,\n",
    "    ha=\"center\" , color=\"#000000\"\n",
    ")\n",
    "\n",
    "# add subtitle\n",
    "fig.text(\n",
    "    0.515, 0.942,\n",
    "    \"Percentile Rank in various indicators\",\n",
    "    size=15,\n",
    "    ha=\"center\", color=\"#000000\"\n",
    ")\n"
   ]
  },
  {
   "cell_type": "code",
   "execution_count": 27,
   "id": "dfa7f5bc",
   "metadata": {},
   "outputs": [],
   "source": [
    "#save as image\n",
    "fig.savefig('BrazilPizzaN.png', dpi = 1000)"
   ]
  },
  {
   "cell_type": "code",
   "execution_count": null,
   "id": "b12555fe",
   "metadata": {},
   "outputs": [],
   "source": []
  }
 ],
 "metadata": {
  "kernelspec": {
   "display_name": "Python 3 (ipykernel)",
   "language": "python",
   "name": "python3"
  },
  "language_info": {
   "codemirror_mode": {
    "name": "ipython",
    "version": 3
   },
   "file_extension": ".py",
   "mimetype": "text/x-python",
   "name": "python",
   "nbconvert_exporter": "python",
   "pygments_lexer": "ipython3",
   "version": "3.10.5"
  }
 },
 "nbformat": 4,
 "nbformat_minor": 5
}
